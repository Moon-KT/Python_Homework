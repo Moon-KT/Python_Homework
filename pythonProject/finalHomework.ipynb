{
  "nbformat": 4,
  "nbformat_minor": 0,
  "metadata": {
    "colab": {
      "provenance": [],
      "gpuType": "T4"
    },
    "kernelspec": {
      "name": "python3",
      "display_name": "Python 3"
    },
    "language_info": {
      "name": "python"
    },
    "accelerator": "GPU"
  },
  "cells": [
    {
      "cell_type": "markdown",
      "source": [
        "Hi các bạn, cũng đã đến những buổi cuối cùng của lớp Python Private, chúng ta đã đi qua nhiều kiến thức cơ bản cũng như các thư viện hữu dụng cho hướng phát triển của lớp sau này, bài tập này là bài tập tổng hợp lại kiến thức cho các bạn trước khi bước vào bài tập lớn cuối khóa nhé.\n",
        "\n",
        "Yêu cầu chung cho bài tập như sau:\n",
        "- Tạo folder finalHomework trên drive của mình, tạo bản sao từ google colab này và lưu lại trong đó\n",
        "- Ở các vị trị có dấu ... các bạn sẽ thay thế nó bằng câu lệnh phù hợp nhé\n",
        "- Có thể thêm cell code để tách rời các đoạn code cho rõ ràng hơn\n",
        "- Link dataset:\n",
        "  + Fifa World Cup 2022 Qatar: [data](https://drive.google.com/drive/folders/1toqv_FTlsi6-NfswfzKnK9GBYAE8i57L?usp=sharing)\n",
        "\n",
        "Anh mong các bạn sẽ làm bài tập đầy đủ để có thể review lại kiến thức của bản thân nhé !!!\n",
        "\n",
        "Yêu các bạn <3\n",
        "\n"
      ],
      "metadata": {
        "id": "7N4tjV0RttOy"
      }
    },
    {
      "cell_type": "markdown",
      "source": [
        "# Set up"
      ],
      "metadata": {
        "id": "2nJGCVde7QYz"
      }
    },
    {
      "cell_type": "markdown",
      "source": [
        "## Import các thư viện cần thiết"
      ],
      "metadata": {
        "id": "OaIqmAl26tfn"
      }
    },
    {
      "cell_type": "code",
      "execution_count": null,
      "metadata": {
        "id": "SQs3MtBEtoBM"
      },
      "outputs": [],
      "source": [
        "                                                                                                                                                    import numpy as np\n",
        "import pandas as pd\n",
        "import matplotlib.pyplot as plt\n",
        "import cv2"
      ]
    },
    {
      "cell_type": "markdown",
      "source": [
        "## Kết nối với google drive"
      ],
      "metadata": {
        "id": "fJk_2UsOwjlY"
      }
    },
    {
      "cell_type": "code",
      "source": [
        "from google.colab import drive\n",
        "drive.mount('/content/drive')"
      ],
      "metadata": {
        "colab": {
          "base_uri": "https://localhost:8080/"
        },
        "id": "vGtPkHlKW5Q_",
        "outputId": "2fcece11-78c0-4c6b-af75-b1d19817ed76"
      },
      "execution_count": null,
      "outputs": [
        {
          "output_type": "stream",
          "name": "stdout",
          "text": [
            "Mounted at /content/drive\n"
          ]
        }
      ]
    },
    {
      "cell_type": "markdown",
      "source": [
        "## Di chuyển đến thư mục chứa google colab"
      ],
      "metadata": {
        "id": "CrHj0eFjyV66"
      }
    },
    {
      "cell_type": "code",
      "source": [
        "import os\n",
        "folder = \"/content/drive/MyDrive/finalHomework\"\n",
        "os.chdir(folder)"
      ],
      "metadata": {
        "id": "m3GoRYnSyFnY"
      },
      "execution_count": null,
      "outputs": []
    },
    {
      "cell_type": "markdown",
      "source": [
        "## Upload file"
      ],
      "metadata": {
        "id": "sg7zIV2gyowz"
      }
    },
    {
      "cell_type": "code",
      "source": [
        "from requests import post\n",
        "\n",
        "def upload_file(file_path, upload_url):\n",
        "    with open(file_path, 'rb') as file:\n",
        "        files = {'file': (file_path, file)}\n",
        "        response = post(upload_url, files=files)\n",
        "        return response\n",
        "\n",
        "upload_url = 'https://drive.google.com/drive/folders/1KpVsthi1WNdKGW1BVzxvudHGEJ3Fd9UW'\n",
        "file_path = '/content/drive/MyDrive/finalHomework/WC2022.csv'\n",
        "\n",
        "uploaded = upload_file(file_path, upload_url)\n"
      ],
      "metadata": {
        "id": "UxfxS5cTzEZ4"
      },
      "execution_count": null,
      "outputs": []
    },
    {
      "cell_type": "markdown",
      "source": [
        "## List các file trong thư mục"
      ],
      "metadata": {
        "id": "WJB8Vuyt8I8X"
      }
    },
    {
      "cell_type": "code",
      "source": [
        "all_items = os.listdir()\n",
        "for i in all_items:\n",
        "  print(all_items)"
      ],
      "metadata": {
        "id": "MJ-gBUGt8ImB",
        "colab": {
          "base_uri": "https://localhost:8080/"
        },
        "outputId": "a9b417df-8aa2-416c-c607-3f0c5f502d60"
      },
      "execution_count": null,
      "outputs": [
        {
          "output_type": "stream",
          "name": "stdout",
          "text": [
            "['WC2022.csv', 'Bản sao của finalHomework.ipynb']\n",
            "['WC2022.csv', 'Bản sao của finalHomework.ipynb']\n"
          ]
        }
      ]
    },
    {
      "cell_type": "markdown",
      "source": [
        "# Numpy"
      ],
      "metadata": {
        "id": "KAfNZmApG7q8"
      }
    },
    {
      "cell_type": "code",
      "source": [
        "# Init\n",
        "import random\n",
        "import numpy as np\n",
        "\n",
        "prices = list(range(1, 1000000))\n",
        "random.shuffle(prices)"
      ],
      "metadata": {
        "id": "Qx6IzqyyG_5c"
      },
      "execution_count": null,
      "outputs": []
    },
    {
      "cell_type": "code",
      "source": [
        "# hàm ban đầu\n",
        "def find_max_down_fall(prices):\n",
        "  min_right_to_left = [0 for i in range((len(prices)))]\n",
        "\n",
        "  min_so_far = float('inf')\n",
        "  for i in range(len(prices) -1, -1, -1):\n",
        "    min_so_far = min(prices[i], min_so_far)\n",
        "    min_right_to_left[i] = min_so_far\n",
        "\n",
        "  res = 0\n",
        "  for i, buy in enumerate(prices):\n",
        "    worst_sell = min_right_to_left[i]\n",
        "    down_fall = (buy - worst_sell) / buy\n",
        "    res = max(res, down_fall)\n",
        "\n",
        "  return res"
      ],
      "metadata": {
        "id": "KvygxO4iJxo4"
      },
      "execution_count": null,
      "outputs": []
    },
    {
      "cell_type": "code",
      "source": [
        "# Tính thời gian thực hiện của hàm find_max_down_fall\n",
        "%timeit find_max_down_fall(prices)\n"
      ],
      "metadata": {
        "id": "6SBdr8n2JyQw",
        "colab": {
          "base_uri": "https://localhost:8080/"
        },
        "outputId": "40e0d5fc-c7a0-4456-b9f0-81fceb199c4e"
      },
      "execution_count": null,
      "outputs": [
        {
          "output_type": "stream",
          "name": "stdout",
          "text": [
            "868 ms ± 144 ms per loop (mean ± std. dev. of 7 runs, 1 loop each)\n"
          ]
        }
      ]
    },
    {
      "cell_type": "code",
      "source": [
        "# hàm sau khi được viết lại bằng numpy\n",
        "def find_max_down_fall_np(prices_np):\n",
        "  # start your code here\n",
        "  min_right_to_left = np.minimum.accumulate(prices[::-1])[::-1]\n",
        "\n",
        "  res = 0\n",
        "  for i, buy in enumerate(prices):\n",
        "      worst_sell = min_right_to_left[i]\n",
        "      down_fall = (buy - worst_sell) / buy\n",
        "      res = max(res, down_fall)\n",
        "\n",
        "  return res\n",
        "  # end your code"
      ],
      "metadata": {
        "id": "YR77Xtp5J15S"
      },
      "execution_count": null,
      "outputs": []
    },
    {
      "cell_type": "code",
      "source": [
        "# Tính thời gian thực hiện của hàm find_max_down_fall sau khi được viết lại bằng numpy với thời gian kì vọng nhanh hơn khoảng 100 lần\n",
        "# start your code here\n",
        "prices_np = np.array([prices])\n",
        "# end your code\n",
        "\n",
        "%timeit find_max_down_fall_np(prices_np)"
      ],
      "metadata": {
        "id": "GCXJHtzbJ3nC",
        "colab": {
          "base_uri": "https://localhost:8080/"
        },
        "outputId": "d0d799d1-fed1-4cab-b8c0-c67d7d3de9bd"
      },
      "execution_count": null,
      "outputs": [
        {
          "output_type": "stream",
          "name": "stdout",
          "text": [
            "887 ms ± 9.81 ms per loop (mean ± std. dev. of 7 runs, 1 loop each)\n"
          ]
        }
      ]
    },
    {
      "cell_type": "code",
      "source": [
        "# so sánh kết quả\n",
        "find_max_down_fall(prices) == find_max_down_fall_np(prices_np)"
      ],
      "metadata": {
        "id": "H3q6aJrGJ69R"
      },
      "execution_count": null,
      "outputs": []
    },
    {
      "cell_type": "markdown",
      "source": [
        "# Pandas + Matplotlib"
      ],
      "metadata": {
        "id": "P1TFqBTO7Ghy"
      }
    },
    {
      "cell_type": "markdown",
      "source": [
        "## Gọi file csv"
      ],
      "metadata": {
        "id": "LExKcCNc798S"
      }
    },
    {
      "cell_type": "code",
      "source": [
        "df_matches = pd.read_csv('WC2022.csv' , sep=',', header = 0)\n",
        "df_events = pd.read_csv('WC2022.csv', index_col= 'events_list', header = 0)"
      ],
      "metadata": {
        "id": "0LJZcOob79fQ"
      },
      "execution_count": null,
      "outputs": []
    },
    {
      "cell_type": "markdown",
      "source": [
        "## Hiển thị 5 dòng đầu của dataframe"
      ],
      "metadata": {
        "id": "3GKYg8NP7AkW"
      }
    },
    {
      "cell_type": "code",
      "source": [
        "first_five_lines_matches = df_matches.head()\n",
        "print(first_five_lines_matches)\n",
        "\n",
        "total_cols = len(df_events)\n",
        "first_five_lines_events = df_events.head().iloc[:, total_cols - 7:]\n",
        "print(first_five_lines_events)\n",
        "\n",
        "\n",
        "\n",
        "\n",
        "\n"
      ],
      "metadata": {
        "id": "8QUFbwHZvzvS",
        "colab": {
          "base_uri": "https://localhost:8080/"
        },
        "outputId": "825c5b89-83b6-4c05-dd01-b527c2f89625"
      },
      "execution_count": null,
      "outputs": [
        {
          "output_type": "stream",
          "name": "stdout",
          "text": [
            "   match_id                  stage        date   pens pens_home_score  \\\n",
            "0         1                  Final  18/12/2022   True               4   \n",
            "1         2  Match for third place  17/12/2022  False           False   \n",
            "2         3            Semi-finals  14/12/2022  False           False   \n",
            "3         4            Semi-finals  13/12/2022  False           False   \n",
            "4         5         Quarter-finals  10/12/2022  False           False   \n",
            "\n",
            "  pens_away_score team_name_home team_name_away  team_home_score  \\\n",
            "0               2      Argentina         France                3   \n",
            "1           False        Croatia        Morocco                2   \n",
            "2           False         France        Morocco                2   \n",
            "3           False      Argentina        Croatia                3   \n",
            "4           False        England         France                1   \n",
            "\n",
            "   team_away_score  ...  prediction_team_away_win  prediction_quantity  \\\n",
            "0                3  ...                      0.33              1002364   \n",
            "1                1  ...                      0.54               367156   \n",
            "2                0  ...                      0.39               720768   \n",
            "3                0  ...                      0.25               792326   \n",
            "4                2  ...                      0.55               672577   \n",
            "\n",
            "                        location  \\\n",
            "0          Lusail Iconic Stadium   \n",
            "1  Khalifa International Stadium   \n",
            "2                Al Bayt Stadium   \n",
            "3          Lusail Iconic Stadium   \n",
            "4                Al Bayt Stadium   \n",
            "\n",
            "                                         events_list  \\\n",
            "0  [{'event_team': 'home', 'event_time': \" 23' \",...   \n",
            "1  [{'event_team': 'home', 'event_time': \" 7' \", ...   \n",
            "2  [{'event_team': 'home', 'event_time': \" 5' \", ...   \n",
            "3  [{'event_team': 'away', 'event_time': \" 32' \",...   \n",
            "4  [{'event_team': 'away', 'event_time': \" 17' \",...   \n",
            "\n",
            "                                         lineup_home  \\\n",
            "0  [{'player_name': ' Di María ', 'player_number'...   \n",
            "1  [{'player_name': ' Livaja ', 'player_number': ...   \n",
            "2  [{'player_name': ' Giroud ', 'player_number': ...   \n",
            "3  [{'player_name': ' Álvarez ', 'player_number':...   \n",
            "4  [{'player_name': ' Foden ', 'player_number': '...   \n",
            "\n",
            "                                         lineup_away  \\\n",
            "0  [{'player_name': ' Giroud ', 'player_number': ...   \n",
            "1  [{'player_name': ' Boufal ', 'player_number': ...   \n",
            "2  [{'player_name': ' En-Nesyri ', 'player_number...   \n",
            "3  [{'player_name': ' Perišić ', 'player_number':...   \n",
            "4  [{'player_name': ' Giroud ', 'player_number': ...   \n",
            "\n",
            "                                   player_names_home  \\\n",
            "0  ['Di María', 'Álvarez', 'Messi', 'Mac Allister...   \n",
            "1  ['Livaja', 'Oršić', 'Kramarić', 'Majer', 'Kova...   \n",
            "2  ['Giroud', 'Mbappé', 'Griezmann', 'Dembélé', '...   \n",
            "3  ['Álvarez', 'Messi', 'Mac Allister', 'Fernánde...   \n",
            "4  ['Foden', 'Kane', 'Saka', 'Bellingham', 'Rice'...   \n",
            "\n",
            "                                 player_numbers_home  \\\n",
            "0  ['11', '9', '10', '20', '24', '7', '3', '19', ...   \n",
            "1  ['14', '18', '9', '7', '8', '10', '4', '20', '...   \n",
            "2  ['9', '10', '7', '11', '13', '8', '22', '24', ...   \n",
            "3  ['9', '10', '20', '24', '5', '7', '3', '19', '...   \n",
            "4  ['20', '9', '17', '22', '4', '8', '3', '6', '5...   \n",
            "\n",
            "                                   player_names_away  \\\n",
            "0  ['Giroud', 'Mbappé', 'Griezmann', 'Dembélé', '...   \n",
            "1  ['Boufal', 'En-Nesyri', 'Ziyech', 'Sabiri', 'A...   \n",
            "2  ['En-Nesyri', 'Boufal', 'Amrabat', 'Ounahi', '...   \n",
            "3  ['Perišić', 'Kramarić', 'Pašalić', 'Kovačić', ...   \n",
            "4  ['Giroud', 'Mbappé', 'Griezmann', 'Dembélé', '...   \n",
            "\n",
            "                                 player_numbers_away  \n",
            "0  ['9', '10', '7', '11', '14', '8', '22', '18', ...  \n",
            "1  ['17', '19', '7', '11', '4', '23', '25', '20',...  \n",
            "2  ['19', '17', '4', '8', '7', '3', '18', '6', '2...  \n",
            "3  ['4', '9', '15', '8', '11', '10', '19', '20', ...  \n",
            "4  ['9', '10', '7', '11', '14', '8', '22', '18', ...  \n",
            "\n",
            "[5 rows x 30 columns]\n",
            "Empty DataFrame\n",
            "Columns: []\n",
            "Index: [[{'event_team': 'home', 'event_time': \" 23' \", 'event_type': 'Penalty', 'action_player_1': ' Lionel Messi ', 'action_player_2': ' Penalty '}, {'event_team': 'home', 'event_time': \" 36' \", 'event_type': 'Goal', 'action_player_1': ' Ángel Di María ', 'action_player_2': ' Alexis Mac Allister '}, {'event_team': 'away', 'event_time': \" 41' \", 'event_type': 'Substitution', 'action_player_1': ' Randal Kolo Muani ', 'action_player_2': ' Ousmane Dembélé '}, {'event_team': 'away', 'event_time': \" 41' \", 'event_type': 'Substitution', 'action_player_1': ' Marcus Thuram ', 'action_player_2': ' Olivier Giroud '}, {'event_team': 'home', 'event_time': \" 52' \", 'event_type': 'Yellow card', 'action_player_1': ' Enzo Fernández '}, {'event_team': 'away', 'event_time': \" 55' \", 'event_type': 'Yellow card', 'action_player_1': ' Adrien Rabiot '}, {'event_team': 'home', 'event_time': \" 64' \", 'event_type': 'Substitution', 'action_player_1': ' Marcos Acuña ', 'action_player_2': ' Ángel Di María '}, {'event_team': 'away', 'event_time': \" 71' \", 'event_type': 'Substitution', 'action_player_1': ' Eduardo Camavinga ', 'action_player_2': ' Theo Hernandez '}, {'event_team': 'away', 'event_time': \" 71' \", 'event_type': 'Substitution', 'action_player_1': ' Kingsley Coman ', 'action_player_2': ' Antoine Griezmann '}, {'event_team': 'away', 'event_time': \" 80' \", 'event_type': 'Penalty', 'action_player_1': ' Kylian Mbappé ', 'action_player_2': ' Penalty '}, {'event_team': 'away', 'event_time': \" 81' \", 'event_type': 'Goal', 'action_player_1': ' Kylian Mbappé ', 'action_player_2': ' Marcus Thuram '}, {'event_team': 'away', 'event_time': \" 87' \", 'event_type': 'Yellow card', 'action_player_1': ' Marcus Thuram '}, {'event_team': 'away', 'event_time': \" 95' \", 'event_type': 'Yellow card', 'action_player_1': ' Olivier Giroud '}, {'event_team': 'home', 'event_time': \" 98' \", 'event_type': 'Yellow card', 'action_player_1': ' Marcos Acuña '}, {'event_team': 'home', 'event_time': \" 90' \", 'event_type': 'Substitution', 'action_player_1': ' Gonzalo Montiel ', 'action_player_2': ' Nahuel Molina '}, {'event_team': 'away', 'event_time': \" 96' \", 'event_type': 'Substitution', 'action_player_1': ' Youssouf Fofana ', 'action_player_2': ' Adrien Rabiot '}, {'event_team': 'home', 'event_time': \" 102' \", 'event_type': 'Substitution', 'action_player_1': ' Leandro Paredes ', 'action_player_2': ' Rodrigo De Paul '}, {'event_team': 'home', 'event_time': \" 103' \", 'event_type': 'Substitution', 'action_player_1': ' Lautaro Martínez ', 'action_player_2': ' Julián Álvarez '}, {'event_team': 'home', 'event_time': \" 108' \", 'event_type': 'Goal', 'action_player_1': ' Lionel Messi '}, {'event_team': 'away', 'event_time': \" 113' \", 'event_type': 'Substitution', 'action_player_1': ' Ibrahima Konaté ', 'action_player_2': ' Raphaël Varane '}, {'event_team': 'home', 'event_time': \" 114' \", 'event_type': 'Yellow card', 'action_player_1': ' Leandro Paredes '}, {'event_team': 'home', 'event_time': \" 116' \", 'event_type': 'Yellow card', 'action_player_1': ' Gonzalo Montiel '}, {'event_team': 'home', 'event_time': \" 116' \", 'event_type': 'Substitution', 'action_player_1': ' Germán Pezzella ', 'action_player_2': ' Alexis Mac Allister '}, {'event_team': 'away', 'event_time': \" 118' \", 'event_type': 'Penalty', 'action_player_1': ' Kylian Mbappé ', 'action_player_2': ' Penalty '}, {'event_team': 'home', 'event_time': \" 121' \", 'event_type': 'Substitution', 'action_player_1': ' Paulo Dybala ', 'action_player_2': ' Nicolás Tagliafico '}, {'event_team': 'away', 'event_time': \" 121' \", 'event_type': 'Substitution', 'action_player_1': ' Axel Disasi ', 'action_player_2': ' Jules Koundé '}, {'event_team': 'away', 'event_time': False, 'event_type': 'PK', 'event_result': 'Goal', 'event_player': ' Kylian Mbappé '}, {'event_team': 'home', 'event_time': False, 'event_type': 'PK', 'event_result': 'Goal', 'event_player': ' Lionel Messi '}, {'event_team': 'away', 'event_time': False, 'event_type': 'PK', 'event_result': 'Missed', 'event_player': ' Kingsley Coman '}, {'event_team': 'home', 'event_time': False, 'event_type': 'PK', 'event_result': 'Goal', 'event_player': ' Paulo Dybala '}, {'event_team': 'away', 'event_time': False, 'event_type': 'PK', 'event_result': 'Missed', 'event_player': ' Aurélien Tchouaméni '}, {'event_team': 'home', 'event_time': False, 'event_type': 'PK', 'event_result': 'Goal', 'event_player': ' Leandro Paredes '}, {'event_team': 'away', 'event_time': False, 'event_type': 'PK', 'event_result': 'Goal', 'event_player': ' Randal Kolo Muani '}, {'event_team': 'home', 'event_time': False, 'event_type': 'PK', 'event_result': 'Goal', 'event_player': ' Gonzalo Montiel '}, {'event_team': 'home', 'event_time': \" 126' \", 'event_type': 'Yellow card', 'action_player_1': ' Emiliano Martínez '}], [{'event_team': 'home', 'event_time': \" 7' \", 'event_type': 'Goal', 'action_player_1': ' Joško Gvardiol ', 'action_player_2': ' Ivan Perišić '}, {'event_team': 'away', 'event_time': \" 9' \", 'event_type': 'Goal', 'action_player_1': ' Achraf Dari '}, {'event_team': 'home', 'event_time': \" 42' \", 'event_type': 'Goal', 'action_player_1': ' Mislav Oršić ', 'action_player_2': ' Marko Livaja '}, {'event_team': 'away', 'event_time': \" 45' \", 'event_type': 'Substitution', 'action_player_1': ' Ilias Chair ', 'action_player_2': ' Abdelhamid Sabiri '}, {'event_team': 'away', 'event_time': \" 56' \", 'event_type': 'Substitution', 'action_player_1': ' Azzedine Ounahi ', 'action_player_2': ' Bilal El Khannous '}, {'event_team': 'home', 'event_time': \" 61' \", 'event_type': 'Substitution', 'action_player_1': ' Nikola Vlašić ', 'action_player_2': ' Andrej Kramarić '}, {'event_team': 'away', 'event_time': \" 64' \", 'event_type': 'Substitution', 'action_player_1': ' Badr Benoun ', 'action_player_2': ' Achraf Dari '}, {'event_team': 'away', 'event_time': \" 64' \", 'event_type': 'Substitution', 'action_player_1': ' Anass Zaroury ', 'action_player_2': ' Sofiane Boufal '}, {'event_team': 'home', 'event_time': \" 66' \", 'event_type': 'Substitution', 'action_player_1': ' Bruno Petković ', 'action_player_2': ' Marko Livaja '}, {'event_team': 'home', 'event_time': \" 67' \", 'event_type': 'Substitution', 'action_player_1': ' Mario Pašalić ', 'action_player_2': ' Lovro Majer '}, {'event_team': 'away', 'event_time': \" 67' \", 'event_type': 'Substitution', 'action_player_1': ' Selim Amallah ', 'action_player_2': ' Jawad El Yamiq '}, {'event_team': 'away', 'event_time': \" 69' \", 'event_type': 'Yellow card', 'action_player_1': ' Azzedine Ounahi '}, {'event_team': 'away', 'event_time': \" 84' \", 'event_type': 'Yellow card', 'action_player_1': ' Selim Amallah '}, {'event_team': 'home', 'event_time': \" 95' \", 'event_type': 'Substitution', 'action_player_1': ' Kristijan Jakić ', 'action_player_2': ' Mislav Oršić '}], [{'event_team': 'home', 'event_time': \" 5' \", 'event_type': 'Goal', 'action_player_1': ' Theo Hernandez '}, {'event_team': 'away', 'event_time': \" 21' \", 'event_type': 'Substitution', 'action_player_1': ' Selim Amallah ', 'action_player_2': ' Romain Saïss '}, {'event_team': 'away', 'event_time': \" 27' \", 'event_type': 'Yellow card', 'action_player_1': ' Sofiane Boufal '}, {'event_team': 'away', 'event_time': \" 45' \", 'event_type': 'Substitution', 'action_player_1': ' Yahia Attiyat Allah ', 'action_player_2': ' Noussair Mazraoui '}, {'event_team': 'home', 'event_time': \" 65' \", 'event_type': 'Substitution', 'action_player_1': ' Marcus Thuram ', 'action_player_2': ' Olivier Giroud '}, {'event_team': 'away', 'event_time': \" 66' \", 'event_type': 'Substitution', 'action_player_1': ' Abderrazak Hamdallah ', 'action_player_2': ' Youssef En-Nesyri '}, {'event_team': 'away', 'event_time': \" 67' \", 'event_type': 'Substitution', 'action_player_1': ' Zakaria Aboukhlal ', 'action_player_2': ' Sofiane Boufal '}, {'event_team': 'away', 'event_time': \" 78' \", 'event_type': 'Substitution', 'action_player_1': ' Abdessamad Ezzalzouli ', 'action_player_2': ' Selim Amallah '}, {'event_team': 'home', 'event_time': \" 79' \", 'event_type': 'Substitution', 'action_player_1': ' Randal Kolo Muani ', 'action_player_2': ' Ousmane Dembélé '}, {'event_team': 'home', 'event_time': \" 79' \", 'event_type': 'Goal', 'action_player_1': ' Randal Kolo Muani '}], [{'event_team': 'away', 'event_time': \" 32' \", 'event_type': 'Yellow card', 'action_player_1': ' Dominik Livaković '}, {'event_team': 'away', 'event_time': \" 32' \", 'event_type': 'Yellow card', 'action_player_1': ' Mateo Kovačić '}, {'event_team': 'home', 'event_time': \" 34' \", 'event_type': 'Penalty', 'action_player_1': ' Lionel Messi ', 'action_player_2': ' Penalty '}, {'event_team': 'home', 'event_time': \" 39' \", 'event_type': 'Goal', 'action_player_1': ' Julián Álvarez '}, {'event_team': 'away', 'event_time': \" 45' \", 'event_type': 'Substitution', 'action_player_1': ' Mislav Oršić ', 'action_player_2': ' Borna Sosa '}, {'event_team': 'away', 'event_time': \" 45' \", 'event_type': 'Substitution', 'action_player_1': ' Nikola Vlašić ', 'action_player_2': ' Mario Pašalić '}, {'event_team': 'away', 'event_time': \" 50' \", 'event_type': 'Substitution', 'action_player_1': ' Bruno Petković ', 'action_player_2': ' Marcelo Brozović '}, {'event_team': 'home', 'event_time': \" 62' \", 'event_type': 'Substitution', 'action_player_1': ' Lisandro Martínez ', 'action_player_2': ' Leandro Paredes '}, {'event_team': 'home', 'event_time': \" 68' \", 'event_type': 'Yellow card', 'action_player_1': ' Cristian Romero '}, {'event_team': 'home', 'event_time': \" 69' \", 'event_type': 'Goal', 'action_player_1': ' Julián Álvarez ', 'action_player_2': ' Lionel Messi '}, {'event_team': 'home', 'event_time': \" 71' \", 'event_type': 'Yellow card', 'action_player_1': ' Nicolás Otamendi '}, {'event_team': 'away', 'event_time': \" 72' \", 'event_type': 'Substitution', 'action_player_1': ' Marko Livaja ', 'action_player_2': ' Andrej Kramarić '}, {'event_team': 'home', 'event_time': \" 74' \", 'event_type': 'Substitution', 'action_player_1': ' Exequiel Palacios ', 'action_player_2': ' Rodrigo De Paul '}, {'event_team': 'home', 'event_time': \" 74' \", 'event_type': 'Substitution', 'action_player_1': ' Paulo Dybala ', 'action_player_2': ' Julián Álvarez '}, {'event_team': 'away', 'event_time': \" 81' \", 'event_type': 'Substitution', 'action_player_1': ' Lovro Majer ', 'action_player_2': ' Luka Modrić '}, {'event_team': 'home', 'event_time': \" 86' \", 'event_type': 'Substitution', 'action_player_1': ' Ángel Correa ', 'action_player_2': ' Alexis Mac Allister '}, {'event_team': 'home', 'event_time': \" 86' \", 'event_type': 'Substitution', 'action_player_1': ' Juan Foyth ', 'action_player_2': ' Nahuel Molina '}], [{'event_team': 'away', 'event_time': \" 17' \", 'event_type': 'Goal', 'action_player_1': ' Aurélien Tchouaméni ', 'action_player_2': ' Antoine Griezmann '}, {'event_team': 'away', 'event_time': \" 43' \", 'event_type': 'Yellow card', 'action_player_1': ' Antoine Griezmann '}, {'event_team': 'away', 'event_time': \" 46' \", 'event_type': 'Yellow card', 'action_player_1': ' Ousmane Dembélé '}, {'event_team': 'home', 'event_time': \" 54' \", 'event_type': 'Penalty', 'action_player_1': ' Harry Kane ', 'action_player_2': ' Penalty '}, {'event_team': 'away', 'event_time': \" 78' \", 'event_type': 'Goal', 'action_player_1': ' Olivier Giroud ', 'action_player_2': ' Antoine Griezmann '}, {'event_team': 'home', 'event_time': \" 79' \", 'event_type': 'Substitution', 'action_player_1': ' Mason Mount ', 'action_player_2': ' Jordan Henderson '}, {'event_team': 'away', 'event_time': \" 79' \", 'event_type': 'Substitution', 'action_player_1': ' Kingsley Coman ', 'action_player_2': ' Ousmane Dembélé '}, {'event_team': 'home', 'event_time': \" 79' \", 'event_type': 'Substitution', 'action_player_1': ' Raheem Sterling ', 'action_player_2': ' Bukayo Saka '}, {'event_team': 'away', 'event_time': \" 82' \", 'event_type': 'Yellow card', 'action_player_1': ' Theo Hernandez '}, {'event_team': 'home', 'event_time': \" 84' \", 'event_type': 'Missed penalty', 'action_player_1': ' Harry Kane ', 'action_player_2': ' Missed penalty '}, {'event_team': 'home', 'event_time': \" 85' \", 'event_type': 'Substitution', 'action_player_1': ' Marcus Rashford ', 'action_player_2': ' Phil Foden '}, {'event_team': 'home', 'event_time': \" 90' \", 'event_type': 'Yellow card', 'action_player_1': ' Harry Maguire '}, {'event_team': 'home', 'event_time': \" 98' \", 'event_type': 'Substitution', 'action_player_1': ' Jack Grealish ', 'action_player_2': ' John Stones '}]]\n"
          ]
        }
      ]
    },
    {
      "cell_type": "markdown",
      "source": [
        "## Hiển thị 5 dòng cuối của các dataframe"
      ],
      "metadata": {
        "id": "IXiLmKUVEM1B"
      }
    },
    {
      "cell_type": "code",
      "source": [
        "tail_five_lines_matches = df_matches.tail()\n",
        "print(tail_five_lines_matches)\n",
        "\n",
        "total_cols = len(df_events)\n",
        "first_five_lines_events = df_events.head().iloc[:, total_cols - 7:]\n",
        "print(first_five_lines_events)\n"
      ],
      "metadata": {
        "id": "GwkoK2dhEL1S",
        "colab": {
          "base_uri": "https://localhost:8080/"
        },
        "outputId": "d9d4295d-75f8-4ff7-bac1-1a3dae9d5c38"
      },
      "execution_count": null,
      "outputs": [
        {
          "output_type": "stream",
          "name": "stdout",
          "text": [
            "    match_id                    stage        date   pens pens_home_score  \\\n",
            "59        60  Group stage: Matchday 1  22/11/2022  False           False   \n",
            "60        61  Group stage: Matchday 1  21/11/2022  False           False   \n",
            "61        62  Group stage: Matchday 1  21/11/2022  False           False   \n",
            "62        63  Group stage: Matchday 1  21/11/2022  False           False   \n",
            "63        64  Group stage: Matchday 1  20/11/2022  False           False   \n",
            "\n",
            "   pens_away_score team_name_home team_name_away  team_home_score  \\\n",
            "59           False      Argentina   Saudi Arabia                1   \n",
            "60           False            USA          Wales                1   \n",
            "61           False        Senegal    Netherlands                0   \n",
            "62           False        England           Iran                6   \n",
            "63           False          Qatar        Ecuador                0   \n",
            "\n",
            "    team_away_score  ...  prediction_team_away_win  prediction_quantity  \\\n",
            "59                2  ...                      0.04               657383   \n",
            "60                1  ...                      0.40               361145   \n",
            "61                2  ...                      0.71               457977   \n",
            "62                2  ...                      0.06               498752   \n",
            "63                2  ...                      0.66               528736   \n",
            "\n",
            "                         location  \\\n",
            "59          Lusail Iconic Stadium   \n",
            "60          Ahmad bin Ali Stadium   \n",
            "61             Al Thumama Stadium   \n",
            "62  Khalifa International Stadium   \n",
            "63                Al Bayt Stadium   \n",
            "\n",
            "                                          events_list  \\\n",
            "59  [{'event_team': 'home', 'event_time': \" 10' \",...   \n",
            "60  [{'event_team': 'home', 'event_time': \" 11' \",...   \n",
            "61  [{'event_team': 'away', 'event_time': \" 56' \",...   \n",
            "62  [{'event_team': 'away', 'event_time': \" 20' \",...   \n",
            "63  [{'event_team': 'away', 'event_time': \" 4' \", ...   \n",
            "\n",
            "                                          lineup_home  \\\n",
            "59  [{'player_name': ' Martínez ', 'player_number'...   \n",
            "60  [{'player_name': ' Pulisic ', 'player_number':...   \n",
            "61  [{'player_name': ' Dia ', 'player_number': ' 9...   \n",
            "62  [{'player_name': ' Kane ', 'player_number': ' ...   \n",
            "63  [{'player_name': ' Afif ', 'player_number': ' ...   \n",
            "\n",
            "                                          lineup_away  \\\n",
            "59  [{'player_name': ' Al-Shehri ', 'player_number...   \n",
            "60  [{'player_name': ' James ', 'player_number': '...   \n",
            "61  [{'player_name': ' Bergwijn ', 'player_number'...   \n",
            "62  [{'player_name': ' Taremi ', 'player_number': ...   \n",
            "63  [{'player_name': ' Estrada ', 'player_number':...   \n",
            "\n",
            "                                    player_names_home  \\\n",
            "59  ['Martínez', 'Messi', 'Gómez', 'Paredes', 'De ...   \n",
            "60  ['Pulisic', 'Sargent', 'Weah', 'Musah', 'Adams...   \n",
            "61  ['Dia', 'Sarr', 'Gueye', 'Diatta', 'Mendy', 'K...   \n",
            "62  ['Kane', 'Sterling', 'Mount', 'Saka', 'Rice', ...   \n",
            "63  ['Afif', 'Almoez', 'Abdulaziz', 'Boudiaf', 'Al...   \n",
            "\n",
            "                                  player_numbers_home  \\\n",
            "59  ['22', '10', '17', '5', '7', '11', '3', '19', ...   \n",
            "60  ['10', '24', '21', '6', '4', '8', '5', '13', '...   \n",
            "61  ['9', '18', '5', '15', '6', '8', '22', '4', '3...   \n",
            "62  ['9', '10', '19', '17', '4', '22', '3', '6', '...   \n",
            "63  ['11', '19', '6', '12', '10', '14', '3', '16',...   \n",
            "\n",
            "                                    player_names_away  \\\n",
            "59  ['Al-Shehri', 'Al-Dawsari', 'Kanno', 'Al-Faraj...   \n",
            "60  ['James', 'Bale', 'Williams', 'Wilson', 'Ampad...   \n",
            "61  ['Bergwijn', 'Janssen', 'Gakpo', 'Blind', 'De ...   \n",
            "62  ['Taremi', 'Hajsafi', 'Karimi', 'Nourollahi', ...   \n",
            "63  ['Estrada', 'Valencia', 'Ibarra', 'Caicedo', '...   \n",
            "\n",
            "                                  player_numbers_away  \n",
            "59  ['11', '10', '23', '7', '9', '8', '13', '5', '...  \n",
            "60  ['20', '11', '3', '8', '15', '10', '14', '4', ...  \n",
            "61  ['7', '18', '8', '17', '21', '11', '22', '5', ...  \n",
            "62  ['9', '3', '18', '21', '7', '5', '19', '15', '...  \n",
            "63  ['11', '13', '10', '23', '20', '19', '7', '3',...  \n",
            "\n",
            "[5 rows x 30 columns]\n"
          ]
        }
      ]
    },
    {
      "cell_type": "markdown",
      "source": [
        "## In ra thông tin của từng dataframe"
      ],
      "metadata": {
        "id": "h60ItSAnyW2P"
      }
    },
    {
      "cell_type": "code",
      "source": [
        "print(df_matches)"
      ],
      "metadata": {
        "id": "YlAUSIFJ4wNl",
        "colab": {
          "base_uri": "https://localhost:8080/"
        },
        "outputId": "71fc810d-86b9-4492-e6e8-d1fddca74bed"
      },
      "execution_count": null,
      "outputs": [
        {
          "output_type": "stream",
          "name": "stdout",
          "text": [
            "    match_id                    stage        date   pens pens_home_score  \\\n",
            "0          1                    Final  18/12/2022   True               4   \n",
            "1          2    Match for third place  17/12/2022  False           False   \n",
            "2          3              Semi-finals  14/12/2022  False           False   \n",
            "3          4              Semi-finals  13/12/2022  False           False   \n",
            "4          5           Quarter-finals  10/12/2022  False           False   \n",
            "..       ...                      ...         ...    ...             ...   \n",
            "59        60  Group stage: Matchday 1  22/11/2022  False           False   \n",
            "60        61  Group stage: Matchday 1  21/11/2022  False           False   \n",
            "61        62  Group stage: Matchday 1  21/11/2022  False           False   \n",
            "62        63  Group stage: Matchday 1  21/11/2022  False           False   \n",
            "63        64  Group stage: Matchday 1  20/11/2022  False           False   \n",
            "\n",
            "   pens_away_score team_name_home team_name_away  team_home_score  \\\n",
            "0                2      Argentina         France                3   \n",
            "1            False        Croatia        Morocco                2   \n",
            "2            False         France        Morocco                2   \n",
            "3            False      Argentina        Croatia                3   \n",
            "4            False        England         France                1   \n",
            "..             ...            ...            ...              ...   \n",
            "59           False      Argentina   Saudi Arabia                1   \n",
            "60           False            USA          Wales                1   \n",
            "61           False        Senegal    Netherlands                0   \n",
            "62           False        England           Iran                6   \n",
            "63           False          Qatar        Ecuador                0   \n",
            "\n",
            "    team_away_score  ...  prediction_team_away_win  prediction_quantity  \\\n",
            "0                 3  ...                      0.33              1002364   \n",
            "1                 1  ...                      0.54               367156   \n",
            "2                 0  ...                      0.39               720768   \n",
            "3                 0  ...                      0.25               792326   \n",
            "4                 2  ...                      0.55               672577   \n",
            "..              ...  ...                       ...                  ...   \n",
            "59                2  ...                      0.04               657383   \n",
            "60                1  ...                      0.40               361145   \n",
            "61                2  ...                      0.71               457977   \n",
            "62                2  ...                      0.06               498752   \n",
            "63                2  ...                      0.66               528736   \n",
            "\n",
            "                         location  \\\n",
            "0           Lusail Iconic Stadium   \n",
            "1   Khalifa International Stadium   \n",
            "2                 Al Bayt Stadium   \n",
            "3           Lusail Iconic Stadium   \n",
            "4                 Al Bayt Stadium   \n",
            "..                            ...   \n",
            "59          Lusail Iconic Stadium   \n",
            "60          Ahmad bin Ali Stadium   \n",
            "61             Al Thumama Stadium   \n",
            "62  Khalifa International Stadium   \n",
            "63                Al Bayt Stadium   \n",
            "\n",
            "                                          events_list  \\\n",
            "0   [{'event_team': 'home', 'event_time': \" 23' \",...   \n",
            "1   [{'event_team': 'home', 'event_time': \" 7' \", ...   \n",
            "2   [{'event_team': 'home', 'event_time': \" 5' \", ...   \n",
            "3   [{'event_team': 'away', 'event_time': \" 32' \",...   \n",
            "4   [{'event_team': 'away', 'event_time': \" 17' \",...   \n",
            "..                                                ...   \n",
            "59  [{'event_team': 'home', 'event_time': \" 10' \",...   \n",
            "60  [{'event_team': 'home', 'event_time': \" 11' \",...   \n",
            "61  [{'event_team': 'away', 'event_time': \" 56' \",...   \n",
            "62  [{'event_team': 'away', 'event_time': \" 20' \",...   \n",
            "63  [{'event_team': 'away', 'event_time': \" 4' \", ...   \n",
            "\n",
            "                                          lineup_home  \\\n",
            "0   [{'player_name': ' Di María ', 'player_number'...   \n",
            "1   [{'player_name': ' Livaja ', 'player_number': ...   \n",
            "2   [{'player_name': ' Giroud ', 'player_number': ...   \n",
            "3   [{'player_name': ' Álvarez ', 'player_number':...   \n",
            "4   [{'player_name': ' Foden ', 'player_number': '...   \n",
            "..                                                ...   \n",
            "59  [{'player_name': ' Martínez ', 'player_number'...   \n",
            "60  [{'player_name': ' Pulisic ', 'player_number':...   \n",
            "61  [{'player_name': ' Dia ', 'player_number': ' 9...   \n",
            "62  [{'player_name': ' Kane ', 'player_number': ' ...   \n",
            "63  [{'player_name': ' Afif ', 'player_number': ' ...   \n",
            "\n",
            "                                          lineup_away  \\\n",
            "0   [{'player_name': ' Giroud ', 'player_number': ...   \n",
            "1   [{'player_name': ' Boufal ', 'player_number': ...   \n",
            "2   [{'player_name': ' En-Nesyri ', 'player_number...   \n",
            "3   [{'player_name': ' Perišić ', 'player_number':...   \n",
            "4   [{'player_name': ' Giroud ', 'player_number': ...   \n",
            "..                                                ...   \n",
            "59  [{'player_name': ' Al-Shehri ', 'player_number...   \n",
            "60  [{'player_name': ' James ', 'player_number': '...   \n",
            "61  [{'player_name': ' Bergwijn ', 'player_number'...   \n",
            "62  [{'player_name': ' Taremi ', 'player_number': ...   \n",
            "63  [{'player_name': ' Estrada ', 'player_number':...   \n",
            "\n",
            "                                    player_names_home  \\\n",
            "0   ['Di María', 'Álvarez', 'Messi', 'Mac Allister...   \n",
            "1   ['Livaja', 'Oršić', 'Kramarić', 'Majer', 'Kova...   \n",
            "2   ['Giroud', 'Mbappé', 'Griezmann', 'Dembélé', '...   \n",
            "3   ['Álvarez', 'Messi', 'Mac Allister', 'Fernánde...   \n",
            "4   ['Foden', 'Kane', 'Saka', 'Bellingham', 'Rice'...   \n",
            "..                                                ...   \n",
            "59  ['Martínez', 'Messi', 'Gómez', 'Paredes', 'De ...   \n",
            "60  ['Pulisic', 'Sargent', 'Weah', 'Musah', 'Adams...   \n",
            "61  ['Dia', 'Sarr', 'Gueye', 'Diatta', 'Mendy', 'K...   \n",
            "62  ['Kane', 'Sterling', 'Mount', 'Saka', 'Rice', ...   \n",
            "63  ['Afif', 'Almoez', 'Abdulaziz', 'Boudiaf', 'Al...   \n",
            "\n",
            "                                  player_numbers_home  \\\n",
            "0   ['11', '9', '10', '20', '24', '7', '3', '19', ...   \n",
            "1   ['14', '18', '9', '7', '8', '10', '4', '20', '...   \n",
            "2   ['9', '10', '7', '11', '13', '8', '22', '24', ...   \n",
            "3   ['9', '10', '20', '24', '5', '7', '3', '19', '...   \n",
            "4   ['20', '9', '17', '22', '4', '8', '3', '6', '5...   \n",
            "..                                                ...   \n",
            "59  ['22', '10', '17', '5', '7', '11', '3', '19', ...   \n",
            "60  ['10', '24', '21', '6', '4', '8', '5', '13', '...   \n",
            "61  ['9', '18', '5', '15', '6', '8', '22', '4', '3...   \n",
            "62  ['9', '10', '19', '17', '4', '22', '3', '6', '...   \n",
            "63  ['11', '19', '6', '12', '10', '14', '3', '16',...   \n",
            "\n",
            "                                    player_names_away  \\\n",
            "0   ['Giroud', 'Mbappé', 'Griezmann', 'Dembélé', '...   \n",
            "1   ['Boufal', 'En-Nesyri', 'Ziyech', 'Sabiri', 'A...   \n",
            "2   ['En-Nesyri', 'Boufal', 'Amrabat', 'Ounahi', '...   \n",
            "3   ['Perišić', 'Kramarić', 'Pašalić', 'Kovačić', ...   \n",
            "4   ['Giroud', 'Mbappé', 'Griezmann', 'Dembélé', '...   \n",
            "..                                                ...   \n",
            "59  ['Al-Shehri', 'Al-Dawsari', 'Kanno', 'Al-Faraj...   \n",
            "60  ['James', 'Bale', 'Williams', 'Wilson', 'Ampad...   \n",
            "61  ['Bergwijn', 'Janssen', 'Gakpo', 'Blind', 'De ...   \n",
            "62  ['Taremi', 'Hajsafi', 'Karimi', 'Nourollahi', ...   \n",
            "63  ['Estrada', 'Valencia', 'Ibarra', 'Caicedo', '...   \n",
            "\n",
            "                                  player_numbers_away  \n",
            "0   ['9', '10', '7', '11', '14', '8', '22', '18', ...  \n",
            "1   ['17', '19', '7', '11', '4', '23', '25', '20',...  \n",
            "2   ['19', '17', '4', '8', '7', '3', '18', '6', '2...  \n",
            "3   ['4', '9', '15', '8', '11', '10', '19', '20', ...  \n",
            "4   ['9', '10', '7', '11', '14', '8', '22', '18', ...  \n",
            "..                                                ...  \n",
            "59  ['11', '10', '23', '7', '9', '8', '13', '5', '...  \n",
            "60  ['20', '11', '3', '8', '15', '10', '14', '4', ...  \n",
            "61  ['7', '18', '8', '17', '21', '11', '22', '5', ...  \n",
            "62  ['9', '3', '18', '21', '7', '5', '19', '15', '...  \n",
            "63  ['11', '13', '10', '23', '20', '19', '7', '3',...  \n",
            "\n",
            "[64 rows x 30 columns]\n"
          ]
        }
      ]
    },
    {
      "cell_type": "code",
      "source": [
        "print(df_events)"
      ],
      "metadata": {
        "id": "-daXQ4Sm1EPy",
        "colab": {
          "base_uri": "https://localhost:8080/"
        },
        "outputId": "bc6375c7-1650-4036-899b-d3ede6601f9a"
      },
      "execution_count": null,
      "outputs": [
        {
          "output_type": "stream",
          "name": "stdout",
          "text": [
            "                                                    match_id  \\\n",
            "events_list                                                    \n",
            "[{'event_team': 'home', 'event_time': \" 23' \", ...         1   \n",
            "[{'event_team': 'home', 'event_time': \" 7' \", '...         2   \n",
            "[{'event_team': 'home', 'event_time': \" 5' \", '...         3   \n",
            "[{'event_team': 'away', 'event_time': \" 32' \", ...         4   \n",
            "[{'event_team': 'away', 'event_time': \" 17' \", ...         5   \n",
            "...                                                      ...   \n",
            "[{'event_team': 'home', 'event_time': \" 10' \", ...        60   \n",
            "[{'event_team': 'home', 'event_time': \" 11' \", ...        61   \n",
            "[{'event_team': 'away', 'event_time': \" 56' \", ...        62   \n",
            "[{'event_team': 'away', 'event_time': \" 20' \", ...        63   \n",
            "[{'event_team': 'away', 'event_time': \" 4' \", '...        64   \n",
            "\n",
            "                                                                      stage  \\\n",
            "events_list                                                                   \n",
            "[{'event_team': 'home', 'event_time': \" 23' \", ...                    Final   \n",
            "[{'event_team': 'home', 'event_time': \" 7' \", '...    Match for third place   \n",
            "[{'event_team': 'home', 'event_time': \" 5' \", '...              Semi-finals   \n",
            "[{'event_team': 'away', 'event_time': \" 32' \", ...              Semi-finals   \n",
            "[{'event_team': 'away', 'event_time': \" 17' \", ...           Quarter-finals   \n",
            "...                                                                     ...   \n",
            "[{'event_team': 'home', 'event_time': \" 10' \", ...  Group stage: Matchday 1   \n",
            "[{'event_team': 'home', 'event_time': \" 11' \", ...  Group stage: Matchday 1   \n",
            "[{'event_team': 'away', 'event_time': \" 56' \", ...  Group stage: Matchday 1   \n",
            "[{'event_team': 'away', 'event_time': \" 20' \", ...  Group stage: Matchday 1   \n",
            "[{'event_team': 'away', 'event_time': \" 4' \", '...  Group stage: Matchday 1   \n",
            "\n",
            "                                                          date   pens  \\\n",
            "events_list                                                             \n",
            "[{'event_team': 'home', 'event_time': \" 23' \", ...  18/12/2022   True   \n",
            "[{'event_team': 'home', 'event_time': \" 7' \", '...  17/12/2022  False   \n",
            "[{'event_team': 'home', 'event_time': \" 5' \", '...  14/12/2022  False   \n",
            "[{'event_team': 'away', 'event_time': \" 32' \", ...  13/12/2022  False   \n",
            "[{'event_team': 'away', 'event_time': \" 17' \", ...  10/12/2022  False   \n",
            "...                                                        ...    ...   \n",
            "[{'event_team': 'home', 'event_time': \" 10' \", ...  22/11/2022  False   \n",
            "[{'event_team': 'home', 'event_time': \" 11' \", ...  21/11/2022  False   \n",
            "[{'event_team': 'away', 'event_time': \" 56' \", ...  21/11/2022  False   \n",
            "[{'event_team': 'away', 'event_time': \" 20' \", ...  21/11/2022  False   \n",
            "[{'event_team': 'away', 'event_time': \" 4' \", '...  20/11/2022  False   \n",
            "\n",
            "                                                   pens_home_score  \\\n",
            "events_list                                                          \n",
            "[{'event_team': 'home', 'event_time': \" 23' \", ...               4   \n",
            "[{'event_team': 'home', 'event_time': \" 7' \", '...           False   \n",
            "[{'event_team': 'home', 'event_time': \" 5' \", '...           False   \n",
            "[{'event_team': 'away', 'event_time': \" 32' \", ...           False   \n",
            "[{'event_team': 'away', 'event_time': \" 17' \", ...           False   \n",
            "...                                                            ...   \n",
            "[{'event_team': 'home', 'event_time': \" 10' \", ...           False   \n",
            "[{'event_team': 'home', 'event_time': \" 11' \", ...           False   \n",
            "[{'event_team': 'away', 'event_time': \" 56' \", ...           False   \n",
            "[{'event_team': 'away', 'event_time': \" 20' \", ...           False   \n",
            "[{'event_team': 'away', 'event_time': \" 4' \", '...           False   \n",
            "\n",
            "                                                   pens_away_score  \\\n",
            "events_list                                                          \n",
            "[{'event_team': 'home', 'event_time': \" 23' \", ...               2   \n",
            "[{'event_team': 'home', 'event_time': \" 7' \", '...           False   \n",
            "[{'event_team': 'home', 'event_time': \" 5' \", '...           False   \n",
            "[{'event_team': 'away', 'event_time': \" 32' \", ...           False   \n",
            "[{'event_team': 'away', 'event_time': \" 17' \", ...           False   \n",
            "...                                                            ...   \n",
            "[{'event_team': 'home', 'event_time': \" 10' \", ...           False   \n",
            "[{'event_team': 'home', 'event_time': \" 11' \", ...           False   \n",
            "[{'event_team': 'away', 'event_time': \" 56' \", ...           False   \n",
            "[{'event_team': 'away', 'event_time': \" 20' \", ...           False   \n",
            "[{'event_team': 'away', 'event_time': \" 4' \", '...           False   \n",
            "\n",
            "                                                   team_name_home  \\\n",
            "events_list                                                         \n",
            "[{'event_team': 'home', 'event_time': \" 23' \", ...      Argentina   \n",
            "[{'event_team': 'home', 'event_time': \" 7' \", '...        Croatia   \n",
            "[{'event_team': 'home', 'event_time': \" 5' \", '...         France   \n",
            "[{'event_team': 'away', 'event_time': \" 32' \", ...      Argentina   \n",
            "[{'event_team': 'away', 'event_time': \" 17' \", ...        England   \n",
            "...                                                           ...   \n",
            "[{'event_team': 'home', 'event_time': \" 10' \", ...      Argentina   \n",
            "[{'event_team': 'home', 'event_time': \" 11' \", ...            USA   \n",
            "[{'event_team': 'away', 'event_time': \" 56' \", ...        Senegal   \n",
            "[{'event_team': 'away', 'event_time': \" 20' \", ...        England   \n",
            "[{'event_team': 'away', 'event_time': \" 4' \", '...          Qatar   \n",
            "\n",
            "                                                   team_name_away  \\\n",
            "events_list                                                         \n",
            "[{'event_team': 'home', 'event_time': \" 23' \", ...         France   \n",
            "[{'event_team': 'home', 'event_time': \" 7' \", '...        Morocco   \n",
            "[{'event_team': 'home', 'event_time': \" 5' \", '...        Morocco   \n",
            "[{'event_team': 'away', 'event_time': \" 32' \", ...        Croatia   \n",
            "[{'event_team': 'away', 'event_time': \" 17' \", ...         France   \n",
            "...                                                           ...   \n",
            "[{'event_team': 'home', 'event_time': \" 10' \", ...   Saudi Arabia   \n",
            "[{'event_team': 'home', 'event_time': \" 11' \", ...          Wales   \n",
            "[{'event_team': 'away', 'event_time': \" 56' \", ...    Netherlands   \n",
            "[{'event_team': 'away', 'event_time': \" 20' \", ...           Iran   \n",
            "[{'event_team': 'away', 'event_time': \" 4' \", '...        Ecuador   \n",
            "\n",
            "                                                    team_home_score  \\\n",
            "events_list                                                           \n",
            "[{'event_team': 'home', 'event_time': \" 23' \", ...                3   \n",
            "[{'event_team': 'home', 'event_time': \" 7' \", '...                2   \n",
            "[{'event_team': 'home', 'event_time': \" 5' \", '...                2   \n",
            "[{'event_team': 'away', 'event_time': \" 32' \", ...                3   \n",
            "[{'event_team': 'away', 'event_time': \" 17' \", ...                1   \n",
            "...                                                             ...   \n",
            "[{'event_team': 'home', 'event_time': \" 10' \", ...                1   \n",
            "[{'event_team': 'home', 'event_time': \" 11' \", ...                1   \n",
            "[{'event_team': 'away', 'event_time': \" 56' \", ...                0   \n",
            "[{'event_team': 'away', 'event_time': \" 20' \", ...                6   \n",
            "[{'event_team': 'away', 'event_time': \" 4' \", '...                0   \n",
            "\n",
            "                                                    team_away_score  ...  \\\n",
            "events_list                                                          ...   \n",
            "[{'event_team': 'home', 'event_time': \" 23' \", ...                3  ...   \n",
            "[{'event_team': 'home', 'event_time': \" 7' \", '...                1  ...   \n",
            "[{'event_team': 'home', 'event_time': \" 5' \", '...                0  ...   \n",
            "[{'event_team': 'away', 'event_time': \" 32' \", ...                0  ...   \n",
            "[{'event_team': 'away', 'event_time': \" 17' \", ...                2  ...   \n",
            "...                                                             ...  ...   \n",
            "[{'event_team': 'home', 'event_time': \" 10' \", ...                2  ...   \n",
            "[{'event_team': 'home', 'event_time': \" 11' \", ...                1  ...   \n",
            "[{'event_team': 'away', 'event_time': \" 56' \", ...                2  ...   \n",
            "[{'event_team': 'away', 'event_time': \" 20' \", ...                2  ...   \n",
            "[{'event_team': 'away', 'event_time': \" 4' \", '...                2  ...   \n",
            "\n",
            "                                                    prediction_draw  \\\n",
            "events_list                                                           \n",
            "[{'event_team': 'home', 'event_time': \" 23' \", ...             0.03   \n",
            "[{'event_team': 'home', 'event_time': \" 7' \", '...             0.04   \n",
            "[{'event_team': 'home', 'event_time': \" 5' \", '...             0.03   \n",
            "[{'event_team': 'away', 'event_time': \" 32' \", ...             0.04   \n",
            "[{'event_team': 'away', 'event_time': \" 17' \", ...             0.05   \n",
            "...                                                             ...   \n",
            "[{'event_team': 'home', 'event_time': \" 10' \", ...             0.02   \n",
            "[{'event_team': 'home', 'event_time': \" 11' \", ...             0.09   \n",
            "[{'event_team': 'away', 'event_time': \" 56' \", ...             0.07   \n",
            "[{'event_team': 'away', 'event_time': \" 20' \", ...             0.02   \n",
            "[{'event_team': 'away', 'event_time': \" 4' \", '...             0.06   \n",
            "\n",
            "                                                    prediction_team_away_win  \\\n",
            "events_list                                                                    \n",
            "[{'event_team': 'home', 'event_time': \" 23' \", ...                      0.33   \n",
            "[{'event_team': 'home', 'event_time': \" 7' \", '...                      0.54   \n",
            "[{'event_team': 'home', 'event_time': \" 5' \", '...                      0.39   \n",
            "[{'event_team': 'away', 'event_time': \" 32' \", ...                      0.25   \n",
            "[{'event_team': 'away', 'event_time': \" 17' \", ...                      0.55   \n",
            "...                                                                      ...   \n",
            "[{'event_team': 'home', 'event_time': \" 10' \", ...                      0.04   \n",
            "[{'event_team': 'home', 'event_time': \" 11' \", ...                      0.40   \n",
            "[{'event_team': 'away', 'event_time': \" 56' \", ...                      0.71   \n",
            "[{'event_team': 'away', 'event_time': \" 20' \", ...                      0.06   \n",
            "[{'event_team': 'away', 'event_time': \" 4' \", '...                      0.66   \n",
            "\n",
            "                                                    prediction_quantity  \\\n",
            "events_list                                                               \n",
            "[{'event_team': 'home', 'event_time': \" 23' \", ...              1002364   \n",
            "[{'event_team': 'home', 'event_time': \" 7' \", '...               367156   \n",
            "[{'event_team': 'home', 'event_time': \" 5' \", '...               720768   \n",
            "[{'event_team': 'away', 'event_time': \" 32' \", ...               792326   \n",
            "[{'event_team': 'away', 'event_time': \" 17' \", ...               672577   \n",
            "...                                                                 ...   \n",
            "[{'event_team': 'home', 'event_time': \" 10' \", ...               657383   \n",
            "[{'event_team': 'home', 'event_time': \" 11' \", ...               361145   \n",
            "[{'event_team': 'away', 'event_time': \" 56' \", ...               457977   \n",
            "[{'event_team': 'away', 'event_time': \" 20' \", ...               498752   \n",
            "[{'event_team': 'away', 'event_time': \" 4' \", '...               528736   \n",
            "\n",
            "                                                                         location  \\\n",
            "events_list                                                                         \n",
            "[{'event_team': 'home', 'event_time': \" 23' \", ...          Lusail Iconic Stadium   \n",
            "[{'event_team': 'home', 'event_time': \" 7' \", '...  Khalifa International Stadium   \n",
            "[{'event_team': 'home', 'event_time': \" 5' \", '...                Al Bayt Stadium   \n",
            "[{'event_team': 'away', 'event_time': \" 32' \", ...          Lusail Iconic Stadium   \n",
            "[{'event_team': 'away', 'event_time': \" 17' \", ...                Al Bayt Stadium   \n",
            "...                                                                           ...   \n",
            "[{'event_team': 'home', 'event_time': \" 10' \", ...          Lusail Iconic Stadium   \n",
            "[{'event_team': 'home', 'event_time': \" 11' \", ...          Ahmad bin Ali Stadium   \n",
            "[{'event_team': 'away', 'event_time': \" 56' \", ...             Al Thumama Stadium   \n",
            "[{'event_team': 'away', 'event_time': \" 20' \", ...  Khalifa International Stadium   \n",
            "[{'event_team': 'away', 'event_time': \" 4' \", '...                Al Bayt Stadium   \n",
            "\n",
            "                                                                                          lineup_home  \\\n",
            "events_list                                                                                             \n",
            "[{'event_team': 'home', 'event_time': \" 23' \", ...  [{'player_name': ' Di María ', 'player_number'...   \n",
            "[{'event_team': 'home', 'event_time': \" 7' \", '...  [{'player_name': ' Livaja ', 'player_number': ...   \n",
            "[{'event_team': 'home', 'event_time': \" 5' \", '...  [{'player_name': ' Giroud ', 'player_number': ...   \n",
            "[{'event_team': 'away', 'event_time': \" 32' \", ...  [{'player_name': ' Álvarez ', 'player_number':...   \n",
            "[{'event_team': 'away', 'event_time': \" 17' \", ...  [{'player_name': ' Foden ', 'player_number': '...   \n",
            "...                                                                                               ...   \n",
            "[{'event_team': 'home', 'event_time': \" 10' \", ...  [{'player_name': ' Martínez ', 'player_number'...   \n",
            "[{'event_team': 'home', 'event_time': \" 11' \", ...  [{'player_name': ' Pulisic ', 'player_number':...   \n",
            "[{'event_team': 'away', 'event_time': \" 56' \", ...  [{'player_name': ' Dia ', 'player_number': ' 9...   \n",
            "[{'event_team': 'away', 'event_time': \" 20' \", ...  [{'player_name': ' Kane ', 'player_number': ' ...   \n",
            "[{'event_team': 'away', 'event_time': \" 4' \", '...  [{'player_name': ' Afif ', 'player_number': ' ...   \n",
            "\n",
            "                                                                                          lineup_away  \\\n",
            "events_list                                                                                             \n",
            "[{'event_team': 'home', 'event_time': \" 23' \", ...  [{'player_name': ' Giroud ', 'player_number': ...   \n",
            "[{'event_team': 'home', 'event_time': \" 7' \", '...  [{'player_name': ' Boufal ', 'player_number': ...   \n",
            "[{'event_team': 'home', 'event_time': \" 5' \", '...  [{'player_name': ' En-Nesyri ', 'player_number...   \n",
            "[{'event_team': 'away', 'event_time': \" 32' \", ...  [{'player_name': ' Perišić ', 'player_number':...   \n",
            "[{'event_team': 'away', 'event_time': \" 17' \", ...  [{'player_name': ' Giroud ', 'player_number': ...   \n",
            "...                                                                                               ...   \n",
            "[{'event_team': 'home', 'event_time': \" 10' \", ...  [{'player_name': ' Al-Shehri ', 'player_number...   \n",
            "[{'event_team': 'home', 'event_time': \" 11' \", ...  [{'player_name': ' James ', 'player_number': '...   \n",
            "[{'event_team': 'away', 'event_time': \" 56' \", ...  [{'player_name': ' Bergwijn ', 'player_number'...   \n",
            "[{'event_team': 'away', 'event_time': \" 20' \", ...  [{'player_name': ' Taremi ', 'player_number': ...   \n",
            "[{'event_team': 'away', 'event_time': \" 4' \", '...  [{'player_name': ' Estrada ', 'player_number':...   \n",
            "\n",
            "                                                                                    player_names_home  \\\n",
            "events_list                                                                                             \n",
            "[{'event_team': 'home', 'event_time': \" 23' \", ...  ['Di María', 'Álvarez', 'Messi', 'Mac Allister...   \n",
            "[{'event_team': 'home', 'event_time': \" 7' \", '...  ['Livaja', 'Oršić', 'Kramarić', 'Majer', 'Kova...   \n",
            "[{'event_team': 'home', 'event_time': \" 5' \", '...  ['Giroud', 'Mbappé', 'Griezmann', 'Dembélé', '...   \n",
            "[{'event_team': 'away', 'event_time': \" 32' \", ...  ['Álvarez', 'Messi', 'Mac Allister', 'Fernánde...   \n",
            "[{'event_team': 'away', 'event_time': \" 17' \", ...  ['Foden', 'Kane', 'Saka', 'Bellingham', 'Rice'...   \n",
            "...                                                                                               ...   \n",
            "[{'event_team': 'home', 'event_time': \" 10' \", ...  ['Martínez', 'Messi', 'Gómez', 'Paredes', 'De ...   \n",
            "[{'event_team': 'home', 'event_time': \" 11' \", ...  ['Pulisic', 'Sargent', 'Weah', 'Musah', 'Adams...   \n",
            "[{'event_team': 'away', 'event_time': \" 56' \", ...  ['Dia', 'Sarr', 'Gueye', 'Diatta', 'Mendy', 'K...   \n",
            "[{'event_team': 'away', 'event_time': \" 20' \", ...  ['Kane', 'Sterling', 'Mount', 'Saka', 'Rice', ...   \n",
            "[{'event_team': 'away', 'event_time': \" 4' \", '...  ['Afif', 'Almoez', 'Abdulaziz', 'Boudiaf', 'Al...   \n",
            "\n",
            "                                                                                  player_numbers_home  \\\n",
            "events_list                                                                                             \n",
            "[{'event_team': 'home', 'event_time': \" 23' \", ...  ['11', '9', '10', '20', '24', '7', '3', '19', ...   \n",
            "[{'event_team': 'home', 'event_time': \" 7' \", '...  ['14', '18', '9', '7', '8', '10', '4', '20', '...   \n",
            "[{'event_team': 'home', 'event_time': \" 5' \", '...  ['9', '10', '7', '11', '13', '8', '22', '24', ...   \n",
            "[{'event_team': 'away', 'event_time': \" 32' \", ...  ['9', '10', '20', '24', '5', '7', '3', '19', '...   \n",
            "[{'event_team': 'away', 'event_time': \" 17' \", ...  ['20', '9', '17', '22', '4', '8', '3', '6', '5...   \n",
            "...                                                                                               ...   \n",
            "[{'event_team': 'home', 'event_time': \" 10' \", ...  ['22', '10', '17', '5', '7', '11', '3', '19', ...   \n",
            "[{'event_team': 'home', 'event_time': \" 11' \", ...  ['10', '24', '21', '6', '4', '8', '5', '13', '...   \n",
            "[{'event_team': 'away', 'event_time': \" 56' \", ...  ['9', '18', '5', '15', '6', '8', '22', '4', '3...   \n",
            "[{'event_team': 'away', 'event_time': \" 20' \", ...  ['9', '10', '19', '17', '4', '22', '3', '6', '...   \n",
            "[{'event_team': 'away', 'event_time': \" 4' \", '...  ['11', '19', '6', '12', '10', '14', '3', '16',...   \n",
            "\n",
            "                                                                                    player_names_away  \\\n",
            "events_list                                                                                             \n",
            "[{'event_team': 'home', 'event_time': \" 23' \", ...  ['Giroud', 'Mbappé', 'Griezmann', 'Dembélé', '...   \n",
            "[{'event_team': 'home', 'event_time': \" 7' \", '...  ['Boufal', 'En-Nesyri', 'Ziyech', 'Sabiri', 'A...   \n",
            "[{'event_team': 'home', 'event_time': \" 5' \", '...  ['En-Nesyri', 'Boufal', 'Amrabat', 'Ounahi', '...   \n",
            "[{'event_team': 'away', 'event_time': \" 32' \", ...  ['Perišić', 'Kramarić', 'Pašalić', 'Kovačić', ...   \n",
            "[{'event_team': 'away', 'event_time': \" 17' \", ...  ['Giroud', 'Mbappé', 'Griezmann', 'Dembélé', '...   \n",
            "...                                                                                               ...   \n",
            "[{'event_team': 'home', 'event_time': \" 10' \", ...  ['Al-Shehri', 'Al-Dawsari', 'Kanno', 'Al-Faraj...   \n",
            "[{'event_team': 'home', 'event_time': \" 11' \", ...  ['James', 'Bale', 'Williams', 'Wilson', 'Ampad...   \n",
            "[{'event_team': 'away', 'event_time': \" 56' \", ...  ['Bergwijn', 'Janssen', 'Gakpo', 'Blind', 'De ...   \n",
            "[{'event_team': 'away', 'event_time': \" 20' \", ...  ['Taremi', 'Hajsafi', 'Karimi', 'Nourollahi', ...   \n",
            "[{'event_team': 'away', 'event_time': \" 4' \", '...  ['Estrada', 'Valencia', 'Ibarra', 'Caicedo', '...   \n",
            "\n",
            "                                                                                  player_numbers_away  \n",
            "events_list                                                                                            \n",
            "[{'event_team': 'home', 'event_time': \" 23' \", ...  ['9', '10', '7', '11', '14', '8', '22', '18', ...  \n",
            "[{'event_team': 'home', 'event_time': \" 7' \", '...  ['17', '19', '7', '11', '4', '23', '25', '20',...  \n",
            "[{'event_team': 'home', 'event_time': \" 5' \", '...  ['19', '17', '4', '8', '7', '3', '18', '6', '2...  \n",
            "[{'event_team': 'away', 'event_time': \" 32' \", ...  ['4', '9', '15', '8', '11', '10', '19', '20', ...  \n",
            "[{'event_team': 'away', 'event_time': \" 17' \", ...  ['9', '10', '7', '11', '14', '8', '22', '18', ...  \n",
            "...                                                                                               ...  \n",
            "[{'event_team': 'home', 'event_time': \" 10' \", ...  ['11', '10', '23', '7', '9', '8', '13', '5', '...  \n",
            "[{'event_team': 'home', 'event_time': \" 11' \", ...  ['20', '11', '3', '8', '15', '10', '14', '4', ...  \n",
            "[{'event_team': 'away', 'event_time': \" 56' \", ...  ['7', '18', '8', '17', '21', '11', '22', '5', ...  \n",
            "[{'event_team': 'away', 'event_time': \" 20' \", ...  ['9', '3', '18', '21', '7', '5', '19', '15', '...  \n",
            "[{'event_team': 'away', 'event_time': \" 4' \", '...  ['11', '13', '10', '23', '20', '19', '7', '3',...  \n",
            "\n",
            "[64 rows x 29 columns]\n"
          ]
        }
      ]
    },
    {
      "cell_type": "markdown",
      "source": [
        "- Hãy kiểm tra xem các data frame có giá trị null không\n",
        "- Nếu có hãy trình bày cách giải quyết của bản thân đối với dữ liệu null đó, và code cách giải quyết dưới cell code bên dưới\n",
        "- Nếu không có cách giải quyết thì cũng ghi là không có cách giải quyết\n"
      ],
      "metadata": {
        "id": "tIn8C_W-1UHL"
      }
    },
    {
      "cell_type": "markdown",
      "source": [
        "Ghi cách giải quyết của bản thân vào đây: ..."
      ],
      "metadata": {
        "id": "uCLO1ckZ2rTa"
      }
    },
    {
      "cell_type": "code",
      "source": [
        "# Kiểm tra giá trị null\n",
        "null_values = df_matches.isnull().sum()  # Số lượng giá trị null trong mỗi cột\n",
        "\n",
        "# Kiểm tra xem có giá trị null nào hay không\n",
        "if null_values.sum() > 0:\n",
        "    print(\"DataFrame chứa giá trị null.\")\n",
        "    print(\"Số lượng giá trị null trong mỗi cột:\")\n",
        "    print(null_values)\n",
        "\n",
        "    numeric_cols = df_matches.select_dtypes(include=np.number).columns.tolist()\n",
        "    for col in numeric_cols:\n",
        "        col_mean = df_matches[col].mean()\n",
        "        df_matches[col].fillna(col_mean, inplace=True)\n",
        "\n",
        "    # Hoặc xóa các hàng chứa giá trị null\n",
        "    # df.dropna(inplace=True)\n",
        "\n",
        "    print(\"\\nDữ liệu sau khi xử lý giá trị null:\")\n",
        "    print(df_matches)\n",
        "else:\n",
        "    print(\"DataFrame không chứa giá trị null.\")\n"
      ],
      "metadata": {
        "id": "zu_hydx51TOO",
        "colab": {
          "base_uri": "https://localhost:8080/"
        },
        "outputId": "44958ac3-8801-43df-87a0-4471f5cfe08c"
      },
      "execution_count": null,
      "outputs": [
        {
          "output_type": "stream",
          "name": "stdout",
          "text": [
            "DataFrame không chứa giá trị null.\n"
          ]
        }
      ]
    },
    {
      "cell_type": "markdown",
      "source": [
        "## Lấy ra các trận đấu có từ 3 bàn thắng trở lên (ghi ra tên cặp đấu)"
      ],
      "metadata": {
        "id": "Qy60qLjT5fc1"
      }
    },
    {
      "cell_type": "code",
      "source": [
        "filtered_df = df_matches[['team_name_home', 'team_name_away']][df_matches['team_home_score'] + df_matches['team_away_score'] > 3]\n",
        "print(filtered_df)"
      ],
      "metadata": {
        "id": "WV8o0Gp_5fCA",
        "colab": {
          "base_uri": "https://localhost:8080/"
        },
        "outputId": "9cc2a69e-dec9-4488-c7b9-be04413f9bb3"
      },
      "execution_count": null,
      "outputs": [
        {
          "output_type": "stream",
          "name": "stdout",
          "text": [
            "   team_name_home team_name_away\n",
            "0       Argentina         France\n",
            "6     Netherlands      Argentina\n",
            "8        Portugal    Switzerland\n",
            "10         Brazil    South Korea\n",
            "13         France         Poland\n",
            "15    Netherlands            USA\n",
            "17         Serbia    Switzerland\n",
            "21     Costa Rica        Germany\n",
            "34    South Korea          Ghana\n",
            "35       Cameroon         Serbia\n",
            "37        Croatia         Canada\n",
            "46          Qatar        Senegal\n",
            "49       Portugal          Ghana\n",
            "53          Spain     Costa Rica\n",
            "56         France      Australia\n",
            "62        England           Iran\n"
          ]
        }
      ]
    },
    {
      "cell_type": "markdown",
      "source": [
        "## Thống kê các sân vận động diễn ra các trận đấu và hiển thị tỷ lệ phần trăm của các sân vận động bằng biểu đồ thích hợp"
      ],
      "metadata": {
        "id": "GlqAhl_Q5zSk"
      }
    },
    {
      "cell_type": "code",
      "source": [
        "..."
      ],
      "metadata": {
        "id": "u68SdjY25y8F"
      },
      "execution_count": null,
      "outputs": []
    },
    {
      "cell_type": "markdown",
      "source": [
        "## Lấy ra tên của các đội tham dự giải đấu"
      ],
      "metadata": {
        "id": "xLVi1YWBu0ya"
      }
    },
    {
      "cell_type": "code",
      "source": [
        "unique_names = df_matches['team_name_home'].drop_duplicates()\n",
        "\n",
        "print(\"\\nTên của các đội tham dự giải đấu:\")\n",
        "print(unique_names)"
      ],
      "metadata": {
        "id": "-7NR6aOau0cs",
        "colab": {
          "base_uri": "https://localhost:8080/"
        },
        "outputId": "e323c6dc-f62c-4266-c2db-b551d710d8e8"
      },
      "execution_count": null,
      "outputs": [
        {
          "output_type": "stream",
          "name": "stdout",
          "text": [
            "\n",
            "Tên của các đội tham dự giải đấu:\n",
            "0        Argentina\n",
            "1          Croatia\n",
            "2           France\n",
            "4          England\n",
            "5          Morocco\n",
            "6      Netherlands\n",
            "8         Portugal\n",
            "10          Brazil\n",
            "11           Japan\n",
            "16        Cameroon\n",
            "17          Serbia\n",
            "18     South Korea\n",
            "19           Ghana\n",
            "21      Costa Rica\n",
            "23          Canada\n",
            "24          Poland\n",
            "25    Saudi Arabia\n",
            "26         Tunisia\n",
            "27       Australia\n",
            "28           Wales\n",
            "29            Iran\n",
            "31         Ecuador\n",
            "36           Spain\n",
            "38         Belgium\n",
            "46           Qatar\n",
            "50         Uruguay\n",
            "51     Switzerland\n",
            "54         Germany\n",
            "57          Mexico\n",
            "58         Denmark\n",
            "60             USA\n",
            "61         Senegal\n",
            "Name: team_name_home, dtype: object\n"
          ]
        }
      ]
    },
    {
      "cell_type": "markdown",
      "source": [
        "## Lấy ra số bàn thắng được ghi bởi các đội"
      ],
      "metadata": {
        "id": "Z-BWfpm1wOzg"
      }
    },
    {
      "cell_type": "code",
      "source": [
        "total_scores_home = df_matches.groupby('team_name_home')['team_home_score'].sum()\n",
        "total_scores_away = df_matches.groupby('team_name_away')['team_away_score'].sum()\n",
        "\n",
        "sum_all_scores = total_scores_home + total_scores_away\n",
        "print(\"\\nsố bàn thắng được ghi bởi các đội:\")\n",
        "\n",
        "print(sum_all_scores)"
      ],
      "metadata": {
        "id": "FrcC8LX2wOP5",
        "colab": {
          "base_uri": "https://localhost:8080/"
        },
        "outputId": "31d54c9f-52a4-4b90-82d2-9ca26865fbb7"
      },
      "execution_count": null,
      "outputs": [
        {
          "output_type": "stream",
          "name": "stdout",
          "text": [
            "\n",
            "số bàn thắng được ghi bởi các đội:\n",
            "team_name_home\n",
            "Argentina       15\n",
            "Australia        4\n",
            "Belgium          1\n",
            "Brazil           8\n",
            "Cameroon         4\n",
            "Canada           2\n",
            "Costa Rica       3\n",
            "Croatia          8\n",
            "Denmark          1\n",
            "Ecuador          4\n",
            "England         13\n",
            "France          16\n",
            "Germany          6\n",
            "Ghana            5\n",
            "Iran             4\n",
            "Japan            5\n",
            "Mexico           2\n",
            "Morocco          6\n",
            "Netherlands     10\n",
            "Poland           3\n",
            "Portugal        12\n",
            "Qatar            1\n",
            "Saudi Arabia     3\n",
            "Senegal          5\n",
            "Serbia           5\n",
            "South Korea      5\n",
            "Spain            9\n",
            "Switzerland      5\n",
            "Tunisia          1\n",
            "USA              3\n",
            "Uruguay          2\n",
            "Wales            1\n",
            "dtype: int64\n"
          ]
        }
      ]
    },
    {
      "cell_type": "markdown",
      "source": [
        "## Vẽ biểu đồ thể hiện số bàn thắng được ghi bởi mỗi đội (tự chọn kiểu biểu đồ phù hợp)"
      ],
      "metadata": {
        "id": "HGqkkm2VwXSQ"
      }
    },
    {
      "cell_type": "code",
      "source": [
        "# Tạo biểu đồ cột thể hiện điểm của các học sinh\n",
        "plt.figure(figsize=(15, 7))\n",
        "\n",
        "plt.bar( sum_all_scores.index, sum_all_scores.values, color='skyblue')\n",
        "\n",
        "plt.xlabel('Tên đội bóng')\n",
        "plt.ylabel('Bàn thắng thể hiện số bàn thắng')\n",
        "plt.title('Biểu đồ ')\n",
        "plt.xticks(rotation=45)  # Xoay tên\n",
        "plt.tight_layout()\n",
        "\n",
        "plt.show()\n"
      ],
      "metadata": {
        "id": "IcAtUHd9wl3g",
        "colab": {
          "base_uri": "https://localhost:8080/",
          "height": 663
        },
        "outputId": "03aa30fc-9149-40f3-f417-42e9ce0238f2"
      },
      "execution_count": null,
      "outputs": [
        {
          "output_type": "display_data",
          "data": {
            "text/plain": [
              "<Figure size 1500x700 with 1 Axes>"
            ],
            "image/png": "[encoded data removed]"
          },
          "metadata": {}
        }
      ]
    },
    {
      "cell_type": "markdown",
      "source": [
        "##Thống kê số lượng bàn thắng được ghi bởi các cầu thủ Argentina bằng biểu đồ tròn\n",
        "\n",
        "- Yêu cầu phải có tiêu đề cho biểu đồ, chú thích\n",
        "- Có tỷ lệ phần trăm cho từng cầu thủ\n",
        "- Tách phần của Alexis Mac Allister ra khỏi biểu đồ"
      ],
      "metadata": {
        "id": "yDNxS4mawqj5"
      }
    },
    {
      "cell_type": "code",
      "source": [
        "..."
      ],
      "metadata": {
        "id": "rjtXSK90wqLh"
      },
      "execution_count": null,
      "outputs": []
    },
    {
      "cell_type": "markdown",
      "source": [
        "## Thống kê tỷ lệ ra sân của các cầu thủ Pháp bằng biểu đồ"
      ],
      "metadata": {
        "id": "QOXoBXL43jJf"
      }
    },
    {
      "cell_type": "code",
      "source": [
        "..."
      ],
      "metadata": {
        "id": "cAKkCs593idg"
      },
      "execution_count": null,
      "outputs": []
    },
    {
      "cell_type": "markdown",
      "source": [
        "## Thống kê danh sách top 10 vua phá lưới của giải đấu\n",
        "- Nếu trường hợp hai cầu thủ có cùng số bàn thắng thì chọn cầu thủ có số lượng kiến tạo nhiều hơn\n",
        "- Sử dụng biểu đồ thích hợp để hiển thị số bàn thắng của top 10"
      ],
      "metadata": {
        "id": "uPnOdGBjx6C9"
      }
    },
    {
      "cell_type": "code",
      "source": [
        "..."
      ],
      "metadata": {
        "id": "yj6GXKfzxetv"
      },
      "execution_count": null,
      "outputs": []
    },
    {
      "cell_type": "markdown",
      "source": [
        "# OpenCV"
      ],
      "metadata": {
        "id": "DINXtSC37Vyb"
      }
    },
    {
      "cell_type": "markdown",
      "source": [
        "## Tìm bounding box cho các chữ số trong bức ảnh sau: [ảnh](https://1.bp.blogspot.com/-fGR7t6RnXZs/Uv5kdmT89_I/AAAAAAAAAjg/zZHfaCqnkak/s1600/freeDrawExport_012314055352.png)\n",
        "\n",
        "- Gợi ý các hàm sử dụng:\n",
        "  - cv2.threshold\n",
        "  - cv2.findContours\n",
        "  - cv2.contourArea\n",
        "  - cv2.boundingRect\n",
        "\n",
        "Và các hàm trong thư viện OpenCV đã học hôm trước"
      ],
      "metadata": {
        "id": "O4IWMBszI00S"
      }
    },
    {
      "cell_type": "code",
      "source": [
        "import cv2\n",
        "image = cv2.imread('freeDrawExport_012314055352.png')\n",
        "gray = cv2.cvtColor(image, cv2.COLOR_BGR2GRAY)\n",
        "\n",
        "# Áp dụng phương pháp threshold để tạo ảnh nhị phân\n",
        "_, threshold = cv2.threshold(gray, 240, 255, cv2.THRESH_BINARY)\n",
        "\n",
        "# Tìm contours trong ảnh\n",
        "contours, _ = cv2.findContours(threshold, cv2.RETR_EXTERNAL, cv2.CHAIN_APPROX_SIMPLE)\n",
        "\n",
        "# Duyệt qua các contours và tìm bounding box\n",
        "for contour in contours:\n",
        "    # Bỏ qua các contour có diện tích nhỏ\n",
        "    if cv2.contourArea(contour) > 100:  # Có thể thay đổi giá trị ngưỡng diện tích tùy thuộc vào ảnh của bạn\n",
        "        x, y, w, h = cv2.boundingRect(contour)\n",
        "        cv2.rectangle(image, (x, y), (x + w, y + h), (0, 255, 0), 2)\n",
        "\n",
        "# Hiển thị hình ảnh với bounding box\n",
        "cv2.imshow('Image with bounding box', image)\n",
        "cv2.waitKey(0)\n",
        "cv2.destroyAllWindows()"
      ],
      "metadata": {
        "id": "SX_1jq9hI0ST"
      },
      "execution_count": null,
      "outputs": []
    },
    {
      "cell_type": "markdown",
      "source": [
        "Thực hiện vẽ logo của CLB Tin Học HIT bằng OpenCV: [Vẽ logo](https://docs.google.com/document/d/1Wfg10lmyVPzGpCa6BWcMd3fpjYD3OGohoyjzy_JfcWc/edit?usp=sharing)"
      ],
      "metadata": {
        "id": "xAgVjAuXGgC-"
      }
    },
    {
      "cell_type": "code",
      "source": [
        "import numpy as np\n",
        "import cv2\n",
        "\n",
        "# Tạo hình ảnh với nền màu đen (kích thước 500x800)\n",
        "height, width = 430, 350\n",
        "img = np.zeros((height, width, 3), dtype=np.uint8)  # Tạo ma trận các giá trị 0\n",
        "\n",
        "# Màu cam (BGR: (0, 140, 255))\n",
        "orange_color = (0, 140, 255)\n",
        "\n",
        "# Tọa độ trung tâm và bán kính của hình tròn\n",
        "center_coordinates = (width // 2, height // 2)\n",
        "radius = 165\n",
        "\n",
        "# Văn bản cần chèn\n",
        "text_HIT = \"HIT\"\n",
        "text_CLUB = \"CLUB\"\n",
        "text_CLB = \"CLB Tin Hoc DH CNHN\"\n",
        "\n",
        "# Tọa độ và font\n",
        "center_text_HIT = (65, 270)\n",
        "center_text_CLUB = (115, 315)\n",
        "center_text_CLB = (66, 310)\n",
        "font_face = cv2.FONT_HERSHEY_SIMPLEX\n",
        "\n",
        "text_size = cv2.getTextSize(text_CLUB, font_face, 7, 5)[0]\n",
        "text_x = int((width - text_size[0]) / 2)\n",
        "text_y = int((height + text_size[1]) / 2)\n",
        "\n",
        "cv2.putText(img, text_CLUB, center_text_CLUB, font_face, 1, orange_color, 2, cv2.LINE_AA)\n",
        "\n",
        "# Vẽ 3 đường thẳng\n",
        "cv2.line(img, (236, 220),  (264, 220), orange_color,2 , cv2.LINE_AA)\n",
        "cv2.line(img, (250, 220),  (250, 250), orange_color,2 , cv2.LINE_AA)\n",
        "cv2.line(img, (250, 250),  (270, 250), orange_color,2 , cv2.LINE_AA)\n",
        "\n",
        "rotation_matrix = cv2.getRotationMatrix2D((width / 2, height / 2), 90, 1)\n",
        "rotation_out = cv2.warpAffine(img, rotation_matrix, (width, height))\n",
        "\n",
        "cv2.putText(rotation_out, text_HIT, center_text_HIT, font_face, 4.5, orange_color, 19 ,cv2.LINE_AA)\n",
        "cv2.putText(rotation_out, text_CLB, center_text_CLB, font_face, 0.6, orange_color, 2 ,cv2.LINE_AA)\n",
        "\n",
        "# Vẽ hình tròn\n",
        "cv2.circle(rotation_out, center_coordinates, radius, orange_color, 4,cv2.LINE_AA)\n",
        "\n",
        "# Vẽ hình elip\n",
        "cv2.ellipse(rotation_out, (175, 140), (25, 15), 0, 0, 360, orange_color, 2, cv2.LINE_AA)\n",
        "\n",
        "# Hiển thị hình ảnh với nền đen\n",
        "cv2.imshow('HIT', rotation_out)\n",
        "cv2.waitKey(0)\n",
        "cv2.destroyAllWindows()\n",
        "\n",
        "# Lưu hình ảnh\n",
        "cv2.imwrite('HIT.png', rotation_out)\n"
      ],
      "metadata": {
        "id": "HK76jYc97U7q"
      },
      "execution_count": null,
      "outputs": []
    },
    {
      "cell_type": "markdown",
      "source": [
        "Thực hiện các yêu cầu sau đối với ảnh logo mà bạn vừa vẽ:\n",
        "- Làm mịn ảnh\n",
        "- Làm mờ ảnh\n",
        "\n",
        "Sử dụng các hàm gợi ý sau:\n",
        "- cv2.filter2D\n",
        "- cv2.blur\n",
        "- cv2.GaussianBlur\n",
        "- cv2.medianBlur\n",
        "- cv2.bilateralFilter"
      ],
      "metadata": {
        "id": "DqdlU8_iZoof"
      }
    },
    {
      "cell_type": "code",
      "source": [
        "import numpy as np\n",
        "import cv2\n",
        "\n",
        "# Tạo hình ảnh với nền màu đen (kích thước 500x800)\n",
        "height, width = 430, 350\n",
        "img = np.zeros((height, width, 3), dtype=np.uint8)  # Tạo ma trận các giá trị 0\n",
        "\n",
        "# Màu cam (BGR: (0, 140, 255))\n",
        "orange_color = (0, 140, 255)\n",
        "\n",
        "# Tọa độ trung tâm và bán kính của hình tròn\n",
        "center_coordinates = (width // 2, height // 2)\n",
        "radius = 165\n",
        "\n",
        "# Văn bản cần chèn\n",
        "text_HIT = \"HIT\"\n",
        "text_CLUB = \"CLUB\"\n",
        "text_CLB = \"CLB Tin Hoc DH CNHN\"\n",
        "\n",
        "# Tọa độ và font\n",
        "center_text_HIT = (65, 270)\n",
        "center_text_CLUB = (115, 315)\n",
        "center_text_CLB = (66, 310)\n",
        "font_face = cv2.FONT_HERSHEY_SIMPLEX\n",
        "\n",
        "text_size = cv2.getTextSize(text_CLUB, font_face, 7, 5)[0]\n",
        "text_x = int((width - text_size[0]) / 2)\n",
        "text_y = int((height + text_size[1]) / 2)\n",
        "\n",
        "cv2.putText(img, text_CLUB, center_text_CLUB, font_face, 1, orange_color, 2, cv2.LINE_AA)\n",
        "\n",
        "# Vẽ 3 đường thẳng\n",
        "cv2.line(img, (236, 220),  (264, 220), orange_color,2 , cv2.LINE_AA)\n",
        "cv2.line(img, (250, 220),  (250, 250), orange_color,2 , cv2.LINE_AA)\n",
        "cv2.line(img, (250, 250),  (270, 250), orange_color,2 , cv2.LINE_AA)\n",
        "\n",
        "rotation_matrix = cv2.getRotationMatrix2D((width / 2, height / 2), 90, 1)\n",
        "rotation_out = cv2.warpAffine(img, rotation_matrix, (width, height))\n",
        "\n",
        "cv2.putText(rotation_out, text_HIT, center_text_HIT, font_face, 4.5, orange_color, 19 ,cv2.LINE_AA)\n",
        "cv2.putText(rotation_out, text_CLB, center_text_CLB, font_face, 0.6, orange_color, 2 ,cv2.LINE_AA)\n",
        "\n",
        "# Vẽ hình tròn\n",
        "cv2.circle(rotation_out, center_coordinates, radius, orange_color, 4,cv2.LINE_AA)\n",
        "\n",
        "# Vẽ hình elip\n",
        "cv2.ellipse(rotation_out, (175, 140), (25, 15), 0, 0, 360, orange_color, 2, cv2.LINE_AA)\n",
        "\n",
        "# Mịn hoặc làm mờ ảnh rotation_out\n",
        "# Điều chỉnh kích thước kernel và các tham số tùy thuộc vào từng hàm để có kết quả phù hợp với mong muốn của bạn\n",
        "\n",
        "# Làm mịn ảnh bằng GaussianBlur\n",
        "gaussian_blur = cv2.GaussianBlur(rotation_out, (5, 5), 0.6)  # Kích thước kernel: (5, 5), độ lệch chuẩn = 0\n",
        "\n",
        "# Làm mịn ảnh bằng bilateralFilter\n",
        "bilateral_filtered = cv2.bilateralFilter(gaussian_blur, 9, 75, 60)  # Các tham số: (ảnh, đường kính không gian, độ mịn màu sắc, độ mịn không gian)\n",
        "\n",
        "# Hiển thị các ảnh đã làm mịn hoặc làm mờ\n",
        "cv2.imshow('Filtered - bilateralFilter', bilateral_filtered)\n",
        "cv2.waitKey(0)\n",
        "cv2.destroyAllWindows()\n",
        "\n",
        "# Lưu các ảnh đã làm mịn hoặc làm mờ\n",
        "cv2.imwrite('HIT_bilateral_filtered.png', bilateral_filtered)\n"
      ],
      "metadata": {
        "id": "OzCWehx5ZnIK"
      },
      "execution_count": null,
      "outputs": []
    }
  ]
}